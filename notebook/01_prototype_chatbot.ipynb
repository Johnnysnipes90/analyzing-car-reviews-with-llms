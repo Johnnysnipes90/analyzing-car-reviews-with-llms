{
 "cells": [
  {
   "cell_type": "markdown",
   "id": "4dc03021",
   "metadata": {},
   "source": [
    "![image](../images/car.jpeg)\n",
    "\n",
    "**Car-ing is sharing**, an auto dealership company for car sales and rental, is taking their services to the next level thanks to **Large Language Models (LLMs)**.\n",
    "\n",
    "As their newly recruited AI and NLP developer, you've been asked to prototype a chatbot app with multiple functionalities that not only assist customers but also provide support to human agents in the company.\n",
    "\n",
    "The solution should receive textual prompts and use a variety of pre-trained Hugging Face LLMs to respond to a series of tasks, e.g. classifying the sentiment in a car’s text review, answering a customer question, summarizing or translating text, etc.\n"
   ]
  },
  {
   "cell_type": "markdown",
   "id": "8f16a7ea",
   "metadata": {},
   "source": [
    "## 📦 Imports"
   ]
  },
  {
   "cell_type": "code",
   "execution_count": 2,
   "id": "9b75ef46",
   "metadata": {},
   "outputs": [],
   "source": [
    "import pandas as pd\n",
    "from transformers import pipeline\n",
    "from sklearn.metrics import accuracy_score, f1_score\n",
    "import evaluate\n",
    "import nltk\n",
    "from nltk.tokenize import PunktSentenceTokenizer\n",
    "\n",
    "# 🔇 Silence transformers warnings\n",
    "from transformers import logging\n",
    "logging.set_verbosity(logging.ERROR)"
   ]
  },
  {
   "cell_type": "markdown",
   "id": "e46464aa",
   "metadata": {},
   "source": [
    "## 📥 Load Data"
   ]
  },
  {
   "cell_type": "code",
   "execution_count": 6,
   "id": "e0792f7f",
   "metadata": {},
   "outputs": [
    {
     "data": {
      "text/html": [
       "<div>\n",
       "<style scoped>\n",
       "    .dataframe tbody tr th:only-of-type {\n",
       "        vertical-align: middle;\n",
       "    }\n",
       "\n",
       "    .dataframe tbody tr th {\n",
       "        vertical-align: top;\n",
       "    }\n",
       "\n",
       "    .dataframe thead th {\n",
       "        text-align: right;\n",
       "    }\n",
       "</style>\n",
       "<table border=\"1\" class=\"dataframe\">\n",
       "  <thead>\n",
       "    <tr style=\"text-align: right;\">\n",
       "      <th></th>\n",
       "      <th>review</th>\n",
       "      <th>class</th>\n",
       "      <th>label</th>\n",
       "    </tr>\n",
       "  </thead>\n",
       "  <tbody>\n",
       "    <tr>\n",
       "      <th>0</th>\n",
       "      <td>I am very satisfied with my 2014 Nissan NV SL....</td>\n",
       "      <td>POSITIVE</td>\n",
       "      <td>1</td>\n",
       "    </tr>\n",
       "    <tr>\n",
       "      <th>1</th>\n",
       "      <td>The car is fine. It's a bit loud and not very ...</td>\n",
       "      <td>NEGATIVE</td>\n",
       "      <td>0</td>\n",
       "    </tr>\n",
       "    <tr>\n",
       "      <th>2</th>\n",
       "      <td>My first foreign car. Love it, I would buy ano...</td>\n",
       "      <td>POSITIVE</td>\n",
       "      <td>1</td>\n",
       "    </tr>\n",
       "    <tr>\n",
       "      <th>3</th>\n",
       "      <td>I've come across numerous reviews praising the...</td>\n",
       "      <td>NEGATIVE</td>\n",
       "      <td>0</td>\n",
       "    </tr>\n",
       "    <tr>\n",
       "      <th>4</th>\n",
       "      <td>I've been dreaming of owning an SUV for quite ...</td>\n",
       "      <td>POSITIVE</td>\n",
       "      <td>1</td>\n",
       "    </tr>\n",
       "  </tbody>\n",
       "</table>\n",
       "</div>"
      ],
      "text/plain": [
       "                                              review     class  label\n",
       "0  I am very satisfied with my 2014 Nissan NV SL....  POSITIVE      1\n",
       "1  The car is fine. It's a bit loud and not very ...  NEGATIVE      0\n",
       "2  My first foreign car. Love it, I would buy ano...  POSITIVE      1\n",
       "3  I've come across numerous reviews praising the...  NEGATIVE      0\n",
       "4  I've been dreaming of owning an SUV for quite ...  POSITIVE      1"
      ]
     },
     "metadata": {},
     "output_type": "display_data"
    }
   ],
   "source": [
    "df = pd.read_csv('../data/car_reviews.csv', sep=';', engine='python')\n",
    "df.head()\n",
    "\n",
    "# For consistency sake and easy access to the columns we will make the column names all lower case\n",
    "df.columns = df.columns.str.lower()\n",
    "df[\"label\"] = df[\"class\"].map({\"NEGATIVE\": 0, \"POSITIVE\": 1})\n",
    "display(df.head())"
   ]
  },
  {
   "cell_type": "markdown",
   "id": "78e7fb7d",
   "metadata": {},
   "source": [
    "## 🔍 Sentiment Classification"
   ]
  },
  {
   "cell_type": "code",
   "execution_count": null,
   "id": "32bf5ceb",
   "metadata": {},
   "outputs": [],
   "source": [
    "sentiment_pipeline = pipeline(\"text-classification\", model=\"distilbert-base-uncased-finetuned-sst-2-english\")\n",
    "predicted_labels = sentiment_pipeline(df[\"review\"].tolist())\n",
    "predictions = [1 if p['label'] == 'POSITIVE' else 0 for p in predicted_labels]\n",
    "\n",
    "accuracy_result = accuracy_score(df[\"label\"], predictions)\n",
    "f1_result = f1_score(df[\"label\"], predictions)\n",
    "\n",
    "print(\"📊 Sentiment Classification Results\")\n",
    "print(\"Accuracy:\", accuracy_result)\n",
    "print(\"F1 Score:\", f1_result)"
   ]
  },
  {
   "cell_type": "markdown",
   "id": "477e8879",
   "metadata": {},
   "source": []
  },
  {
   "cell_type": "code",
   "execution_count": null,
   "id": "cd94733e",
   "metadata": {},
   "outputs": [],
   "source": []
  },
  {
   "cell_type": "markdown",
   "id": "29fad112",
   "metadata": {},
   "source": []
  },
  {
   "cell_type": "code",
   "execution_count": null,
   "id": "9fe1dbd1",
   "metadata": {},
   "outputs": [],
   "source": []
  }
 ],
 "metadata": {
  "kernelspec": {
   "display_name": "llm_env",
   "language": "python",
   "name": "python3"
  },
  "language_info": {
   "codemirror_mode": {
    "name": "ipython",
    "version": 3
   },
   "file_extension": ".py",
   "mimetype": "text/x-python",
   "name": "python",
   "nbconvert_exporter": "python",
   "pygments_lexer": "ipython3",
   "version": "3.10.18"
  }
 },
 "nbformat": 4,
 "nbformat_minor": 5
}
